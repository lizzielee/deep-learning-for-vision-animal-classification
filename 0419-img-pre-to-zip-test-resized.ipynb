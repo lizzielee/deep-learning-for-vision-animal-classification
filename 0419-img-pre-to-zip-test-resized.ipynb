{
 "cells": [
  {
   "cell_type": "code",
   "execution_count": 1,
   "metadata": {
    "_cell_guid": "b1076dfc-b9ad-4769-8c92-a6c4dae69d19",
    "_uuid": "8f2839f25d086af736a60e9eeb907d3b93b6e0e5"
   },
   "outputs": [
    {
     "name": "stdout",
     "output_type": "stream",
     "text": [
      "['train.csv', 'sample_submission.csv', 'test.csv', 'train_images', 'test_images']\n"
     ]
    }
   ],
   "source": [
    "# This Python 3 environment comes with many helpful analytics libraries installed\n",
    "# It is defined by the kaggle/python docker image: https://github.com/kaggle/docker-python\n",
    "# For example, here's several helpful packages to load in \n",
    "\n",
    "import numpy as np # linear algebra\n",
    "import pandas as pd # data processing, CSV file I/O (e.g. pd.read_csv)\n",
    "\n",
    "# Input data files are available in the \"../input/\" directory.\n",
    "# For example, running this (by clicking run or pressing Shift+Enter) will list the files in the input directory\n",
    "\n",
    "import os\n",
    "print(os.listdir(\"../input\"))\n",
    "\n",
    "# Import packages\n",
    "import time, copy\n",
    "import seaborn as sns\n",
    "import torch\n",
    "import torch.nn as nn\n",
    "import torch.optim as optim\n",
    "import matplotlib.pyplot as plt\n",
    "from PIL import Image\n",
    "from torchvision import datasets, models, transforms\n",
    "from torchvision.utils import make_grid\n",
    "from torchvision.models.vgg import model_urls\n",
    "from torch.utils.data import Dataset, DataLoader, random_split\n",
    "from torch.utils.data.sampler import SubsetRandomSampler\n",
    "\n",
    "from os.path import isfile, join, abspath, exists, isdir, expanduser\n",
    "\n",
    "# Any results you write to the current directory are saved as output."
   ]
  },
  {
   "cell_type": "code",
   "execution_count": 2,
   "metadata": {
    "_cell_guid": "79c7e3d0-c299-4dcb-8224-4455121ee9b0",
    "_uuid": "d629ff2d2480ee46fbb7e2d37f6b5fab8052498a"
   },
   "outputs": [],
   "source": [
    "# Class names\n",
    "class_names = ['empty', 'deer', 'moose', 'squirrel', 'rodent', 'small_mammal', 'elk', 'pronghorn_antelope', \n",
    "               'rabbit', 'bighorn_sheep', 'fox', 'coyote', 'black_bear', 'raccoon', 'skunk', 'wolf', \n",
    "               'bobcat', 'cat', 'dog', 'opossum', 'bison', 'mountain_goat', 'mountain_lion']\n",
    "\n",
    "# csv file & data file path\n",
    "\n",
    "test_csv_file = '../input/test.csv'\n",
    "test_data_dir = '../input/test_images'\n",
    "test_df = pd.read_csv(test_csv_file)"
   ]
  },
  {
   "cell_type": "code",
   "execution_count": 3,
   "metadata": {},
   "outputs": [],
   "source": [
    "test_df.to_pickle('test_df.pkl')"
   ]
  },
  {
   "cell_type": "code",
   "execution_count": 4,
   "metadata": {},
   "outputs": [],
   "source": [
    "class IWildCamDataset(Dataset):\n",
    "    \n",
    "    def __init__(self, df, root_dir, transform=None):\n",
    "        \"\"\"\n",
    "        Args:\n",
    "            df (pandas.DataFrame): Contains basic information.\n",
    "            root_dir (string): The path where image data is saved.\n",
    "            transform (callable, optional): Optional transform to be applied\n",
    "                on a sample.\n",
    "        \"\"\"\n",
    "        self.df = df\n",
    "        self.root_dir = root_dir\n",
    "        self.transform = transform\n",
    "    \n",
    "    def __len__(self):\n",
    "        return len(self.df)\n",
    "    \n",
    "    def __getitem__(self, idx):\n",
    "        img_path = os.path.join(self.root_dir,\n",
    "                                self.df.iloc[idx].file_name)\n",
    "        with open(img_path, 'rb') as f:\n",
    "            image = Image.open(f)\n",
    "            image = image.convert('RGB')\n",
    "        \n",
    "        if('category_id' in self.df.iloc[idx]):\n",
    "            category = self.df.iloc[idx].category_id\n",
    "        else:\n",
    "            # In test set, there is no given category. Here we will not return the category,\n",
    "            # return the img_id instead. (Because we need to keep track of the img id during\n",
    "            # testing)\n",
    "            category = self.df.iloc[idx].id\n",
    "        \n",
    "        if('file_name' in self.df.iloc[idx]):\n",
    "            filename = self.df.iloc[idx].file_name\n",
    "\n",
    "        # Transform\n",
    "        if self.transform:\n",
    "            image = self.transform(image)\n",
    "\n",
    "        return image, category, filename"
   ]
  },
  {
   "cell_type": "code",
   "execution_count": 5,
   "metadata": {},
   "outputs": [],
   "source": [
    "# Data transforms\n",
    "data_transforms = transforms.Compose([\n",
    "    transforms.Resize(128),  # 1. Resize smallest side to 128.\n",
    "     transforms.CenterCrop(128), # 2. Crop the center 128x128 pixels.\n",
    "     transforms.ToTensor(), # 3. Convert to pytorch tensor.\n",
    "     transforms.Normalize(mean = [0.485, 0.456, 0.406],  # normalize.\n",
    "                          std = [0.229, 0.224, 0.225])\n",
    "])\n",
    "\n",
    "# Get dataset\n",
    "test_set  = IWildCamDataset(test_df, test_data_dir, transform=data_transforms)"
   ]
  },
  {
   "cell_type": "code",
   "execution_count": 6,
   "metadata": {},
   "outputs": [
    {
     "name": "stdout",
     "output_type": "stream",
     "text": [
      "Collecting opencv-contrib-python\r\n",
      "\u001b[?25l  Downloading https://files.pythonhosted.org/packages/af/0a/50a827d13a75754a8500fa854517f09886027005b09ac5210dca9f0aa101/opencv_contrib_python-4.1.0.25-cp36-cp36m-manylinux1_x86_64.whl (32.6MB)\r\n",
      "\u001b[K    100% |████████████████████████████████| 32.6MB 1.0MB/s \r\n",
      "\u001b[?25hRequirement already satisfied: numpy>=1.11.3 in /opt/conda/lib/python3.6/site-packages (from opencv-contrib-python) (1.16.2)\r\n",
      "Installing collected packages: opencv-contrib-python\r\n",
      "Successfully installed opencv-contrib-python-4.1.0.25\r\n",
      "\u001b[33mYou are using pip version 19.0.3, however version 19.1 is available.\r\n",
      "You should consider upgrading via the 'pip install --upgrade pip' command.\u001b[0m\r\n",
      "['train.csv', 'sample_submission.csv', 'test.csv', 'train_images', 'test_images']\n"
     ]
    }
   ],
   "source": [
    "import os\n",
    "import numpy as np # linear algebra\n",
    "import pandas as pd # data processing, CSV file I/O (e.g. pd.read_csv)\n",
    "!pip install opencv-contrib-python\n",
    "import cv2\n",
    "print(os.listdir(\"../input\"))\n",
    "import matplotlib.pyplot as plt\n",
    "\n",
    "import scipy.misc\n",
    "import zipfile\n",
    "\n",
    "%matplotlib inline "
   ]
  },
  {
   "cell_type": "code",
   "execution_count": 7,
   "metadata": {},
   "outputs": [],
   "source": [
    "clahe = cv2.createCLAHE(clipLimit=2.0, tileGridSize=(16, 16))\n",
    "wb = cv2.xphoto.createSimpleWB()\n",
    "wb.setP(0.4)"
   ]
  },
  {
   "cell_type": "code",
   "execution_count": 8,
   "metadata": {},
   "outputs": [
    {
     "name": "stderr",
     "output_type": "stream",
     "text": [
      "/opt/conda/lib/python3.6/site-packages/ipykernel_launcher.py:23: DeprecationWarning: `imsave` is deprecated!\n",
      "`imsave` is deprecated in SciPy 1.0.0, and will be removed in 1.2.0.\n",
      "Use ``imageio.imwrite`` instead.\n"
     ]
    }
   ],
   "source": [
    "startdir = \"p_test_set\"  #要压缩的文件夹路径\n",
    "file_news = startdir +'.zip' # 压缩后文件夹的名字\n",
    "azip = zipfile.ZipFile(file_news, 'w')\n",
    "root_dir = '../input/test_images/'\n",
    "desired_size = 256\n",
    "\n",
    "for idx in range(0, len(test_set)):\n",
    "    test_img = root_dir + test_set[idx][2]\n",
    "    temp_img = cv2.imread(test_img, cv2.IMREAD_COLOR)        \n",
    "    \n",
    "    img_wb = wb.balanceWhite(temp_img)\n",
    "\n",
    "    img_lab = cv2.cvtColor(img_wb, cv2.COLOR_BGR2Lab)\n",
    "\n",
    "    l, a, b = cv2.split(img_lab)\n",
    "    res_l = clahe.apply(l)\n",
    "    res = cv2.merge((res_l, a, b))\n",
    "\n",
    "    res = cv2.cvtColor(res, cv2.COLOR_Lab2BGR)\n",
    "    resized = cv2.resize(res, (desired_size,)*2).astype('uint8')\n",
    "    \n",
    "    imgname = test_set[idx][2]\n",
    "    scipy.misc.imsave(imgname, resized)\n",
    "    azip.write(imgname, compress_type=zipfile.ZIP_LZMA)\n",
    "    \n",
    "    os.remove(imgname)\n",
    "\n",
    "azip.close()"
   ]
  }
 ],
 "metadata": {
  "kernelspec": {
   "display_name": "Python 3",
   "language": "python",
   "name": "python3"
  },
  "language_info": {
   "codemirror_mode": {
    "name": "ipython",
    "version": 3
   },
   "file_extension": ".py",
   "mimetype": "text/x-python",
   "name": "python",
   "nbconvert_exporter": "python",
   "pygments_lexer": "ipython3",
   "version": "3.6.4"
  }
 },
 "nbformat": 4,
 "nbformat_minor": 1
}
